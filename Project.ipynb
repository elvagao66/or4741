{
 "cells": [
  {
   "cell_type": "code",
   "execution_count": null,
   "id": "06afdba7",
   "metadata": {},
   "outputs": [],
   "source": [
    "#the following read path is used by Lu Cao\n",
    "df = pd.read_csv ('/Users/lucao/Desktop/')"
   ]
  }
 ],
 "metadata": {
  "kernelspec": {
   "display_name": "Python 3",
   "language": "python",
   "name": "python3"
  },
  "language_info": {
   "codemirror_mode": {
    "name": "ipython",
    "version": 3
   },
   "file_extension": ".py",
   "mimetype": "text/x-python",
   "name": "python",
   "nbconvert_exporter": "python",
   "pygments_lexer": "ipython3",
   "version": "3.8.8"
  }
 },
 "nbformat": 4,
 "nbformat_minor": 5
}
